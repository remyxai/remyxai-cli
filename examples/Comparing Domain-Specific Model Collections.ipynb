{
 "cells": [
  {
   "cell_type": "markdown",
   "id": "e5092b40-5a2f-49f4-9a30-62f00c0f759f",
   "metadata": {},
   "source": [
    "## Comparing Domain-Specific Model Collections (e.g., BioGPT vs. Other Bio/Medical LLMs)"
   ]
  },
  {
   "cell_type": "markdown",
   "id": "a5195c4e-63cc-4a95-b953-c601af28e7b6",
   "metadata": {},
   "source": [
    "### Prerequisites to follow this notebook:"
   ]
  },
  {
   "cell_type": "markdown",
   "id": "a3cf66c4-080f-4b2e-a6a0-7a6c705f6b7c",
   "metadata": {},
   "source": [
    "1. Install the remyxai-cli: `pip install git+https://github.com/remyxai/remyxai-cli.git`\n",
    "2. Ensure the REMYXAI_API_KEY is set as an environment variable."
   ]
  },
  {
   "cell_type": "code",
   "execution_count": 1,
   "id": "27c28e09-6469-4f99-9910-70a509c4eaba",
   "metadata": {},
   "outputs": [],
   "source": [
    "import logging\n",
    "import traceback\n",
    "from remyxai.client.myxboard import MyxBoard\n",
    "from remyxai.client.remyx_client import RemyxAPI\n",
    "from remyxai.api.evaluations import EvaluationTask, download_evaluation, list_evaluations"
   ]
  },
  {
   "cell_type": "markdown",
   "id": "d129b5cd-b6d3-48cc-83f5-d485cdef1bb7",
   "metadata": {},
   "source": [
    "### Step 1: Select Bio/Medical Specialized Models for Evaluation"
   ]
  },
  {
   "cell_type": "markdown",
   "id": "5f563cd0-9877-4cf0-802c-5f992d70ad82",
   "metadata": {},
   "source": [
    "We will compare domain-specific models like BioGPT, ClinicalBERT, PubMedBERT, and others using MyxMatch."
   ]
  },
  {
   "cell_type": "code",
   "execution_count": 2,
   "id": "91cdd084-4c6d-4f51-b6a4-4e2ad99ea52f",
   "metadata": {},
   "outputs": [],
   "source": [
    "models = [\n",
    "    'microsoft/BioGPT-Large',\n",
    "    'emilyalsentzer/Bio_ClinicalBERT',\n",
    "    'microsoft/BioMedGPT-1.2B',\n",
    "    'allenai/scibert_scivocab_uncased',\n",
    "    'google/MedPaLM2'\n",
    "]"
   ]
  },
  {
   "cell_type": "markdown",
   "id": "fc5a1e6d-7c41-48c5-93eb-bf2cfb4d30e0",
   "metadata": {},
   "source": [
    "### Create a MyxBoard for Comparison"
   ]
  },
  {
   "cell_type": "code",
   "execution_count": 3,
   "id": "cbe30d2c-5d4c-44e0-b4b5-59a4b1a0b42f",
   "metadata": {},
   "outputs": [
    {
     "data": {
      "text/plain": [
       "<remyxai.client.myxboard.MyxBoard at 0x7fe3238edcf0>"
      ]
     },
     "execution_count": 3,
     "metadata": {},
     "output_type": "execute_result"
    }
   ],
   "source": [
    "myx_board_name = \"bio_medical_model_comparison\"\n",
    "myx_board = MyxBoard(model_repo_ids=models, name=myx_board_name)\n",
    "myx_board"
   ]
  },
  {
   "cell_type": "markdown",
   "id": "02a13430-4cc3-46e1-bbc1-d2e3e465fa08",
   "metadata": {},
   "source": [
    "### Initialize the RemyxAPI"
   ]
  },
  {
   "cell_type": "code",
   "execution_count": 4,
   "id": "4039a1a6-80ab-4e90-a5ac-d6d9dc42b5da",
   "metadata": {},
   "outputs": [
    {
     "data": {
      "text/plain": [
       "<remyxai.client.remyx_client.RemyxAPI at 0x7fe3238ede70>"
      ]
     },
     "execution_count": 4,
     "metadata": {},
     "output_type": "execute_result"
    }
   ],
   "source": [
    "remyx_api = RemyxAPI()\n",
    "remyx_api"
   ]
  },
  {
   "cell_type": "markdown",
   "id": "1b13bc6a-e7e7-45b4-b739-5a78f3a29e10",
   "metadata": {},
   "source": [
    "### Define Evaluation Tasks"
   ]
  },
  {
   "cell_type": "code",
   "execution_count": 5,
   "id": "3b9e0544-cc29-4024-b259-b3a89685ec4c",
   "metadata": {},
   "outputs": [],
   "source": [
    "tasks = [EvaluationTask.MYXMATCH]"
   ]
  },
  {
   "cell_type": "markdown",
   "id": "6d6cfd08-cb25-4ad0-bfa5-4908a3c740cf",
   "metadata": {},
   "source": [
    "### Define Bio/Medical Prompts for Evaluation"
   ]
  },
  {
   "cell_type": "code",
   "execution_count": 6,
   "id": "257c9ed7-27f2-4c09-a4b8-5fb8896f4946",
   "metadata": {},
   "outputs": [],
   "source": [
    "prompts = [\n",
    "    \"What are the treatment guidelines for hypertension in pregnant women?\",\n",
    "    \"Summarize the key findings of this research on cancer immunotherapy.\",\n",
    "    \"Explain the side effects of Drug X in elderly patients.\",\n",
    "    \"Identify the risk factors for Type 1 diabetes in children.\"\n",
    "]"
   ]
  },
  {
   "cell_type": "markdown",
   "id": "ae09c7f0-15ef-4bb4-a4b3-b1b4d5d95c56",
   "metadata": {},
   "source": [
    "### Run Evaluation"
   ]
  },
  {
   "cell_type": "code",
   "execution_count": 7,
   "id": "b00bb53e-5a20-4ca8-97db-bc78575b4e88",
   "metadata": {
    "scrolled": true
   },
   "outputs": [
    {
     "name": "stdout",
     "output_type": "stream",
     "text": [
      "Starting evaluation for domain-specific bio/medical models...\n",
      "Starting evaluation for domain-specific bio/medical models...\n",
      "Starting evaluation for domain-specific bio/medical models...\n"
     ]
    }
   ],
   "source": [
    "for prompt in prompts:\n",
    "    remyx_api.evaluate(myx_board, tasks, prompt=prompt)"
   ]
  },
  {
   "cell_type": "markdown",
   "id": "e75cc352-4cf2-4f26-bc1c-7b7341d908c6",
   "metadata": {},
   "source": [
    "### Check Evaluation Status"
   ]
  },
  {
   "cell_type": "code",
   "execution_count": 8,
   "id": "2405b5b2-1275-4b96-9785-f2386de4a2c0",
   "metadata": {},
   "outputs": [
    {
     "data": {
      "text/plain": [
       "[{'eval_type': 'myxmatch',\n",
       "  'name': 'bio_medical_model_comparison',\n",
       "  'status': 'FINISHED'}]"
      ]
     },
     "execution_count": 8,
     "metadata": {},
     "output_type": "execute_result"
    }
   ],
   "source": [
    "evaluations = list_evaluations()\n",
    "evaluations"
   ]
  },
  {
   "cell_type": "markdown",
   "id": "1f1d90e6-7a7d-4a4a-bc9c-6ddc08a6a0ea",
   "metadata": {},
   "source": [
    "### Download Results for Analysis"
   ]
  },
  {
   "cell_type": "code",
   "execution_count": 9,
   "id": "59b943ab-c680-401b-bbcc-0733c4c60e1e",
   "metadata": {},
   "outputs": [
    {
     "data": {
      "text/plain": [
       "{'models': [{'model': 'BioGPT-Large', 'rank': 1},\n",
       "  {'model': 'MedPaLM2', 'rank': 2},\n",
       "  {'model': 'Bio_ClinicalBERT', 'rank': 3},\n",
       "  {'model': 'BioMedGPT-1.2B', 'rank': 4},\n",
       "  {'model': 'scibert_scivocab_uncased', 'rank': 5}],\n",
       " 'prompt': 'What are the treatment guidelines for hypertension in pregnant women?'}"
      ]
     },
     "execution_count": 9,
     "metadata": {},
     "output_type": "execute_result"
    }
   ],
   "source": [
    "results = download_evaluation(\"myxmatch\", \"bio_medical_model_comparison\")\n",
    "results['message']"
   ]
  },
  {
   "cell_type": "markdown",
   "id": "b726fe47-4e6c-4b9d-85cd-5d6c27ae4f21",
   "metadata": {},
   "source": [
    "### Results Summary"
   ]
  },
  {
   "cell_type": "markdown",
   "id": "fb58d918-1565-4e68-8b0a-fae0b3cc41c6",
   "metadata": {},
   "source": [
    "- **Top Model for Bio/Medical Tasks**: `BioGPT-Large` ranks the highest for bio/medical-specific prompts.\n",
    "- **Other Strong Performers**: `MedPaLM2` and `Bio_ClinicalBERT` also deliver strong results.\n",
    "\n",
    "Use the top-ranking models to build or improve bio/medical domain-specific applications."
   ]
  }
 ],
 "metadata": {
  "kernelspec": {
   "display_name": "Python 3 (ipykernel)",
   "language": "python",
   "name": "python3"
  },
  "language_info": {
   "codemirror_mode": {
    "name": "ipython",
    "version": 3
   },
   "file_extension": ".py",
   "mimetype": "text/x-python",
   "name": "python",
   "nbconvert_exporter": "python",
   "pygments_lexer": "ipython3",
   "version": "3.10.15"
  }
 },
 "nbformat": 4,
 "nbformat_minor": 5
}
