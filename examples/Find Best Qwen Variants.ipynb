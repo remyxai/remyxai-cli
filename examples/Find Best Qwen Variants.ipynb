{
 "cells": [
  {
   "cell_type": "markdown",
   "id": "3d192f5d-4b4f-4a5a-86d1-43ed3544cf76",
   "metadata": {},
   "source": [
    "## Find Best Qwen Variants"
   ]
  },
  {
   "cell_type": "markdown",
   "id": "cb563b8b-cbd6-402c-8e6f-e2519c9e0d6f",
   "metadata": {},
   "source": [
    "### Prerequisites to follow this notebook:"
   ]
  },
  {
   "cell_type": "markdown",
   "id": "d9c0a0b5-cf65-44d1-b5ac-ef826a8d8ad7",
   "metadata": {},
   "source": [
    "1. Install the remyxai-cli: `pip install git+https://github.com/remyxai/remyxai-cli.git`\n",
    "2. Ensure the REMYXAI_API_KEY is set as an environment variable."
   ]
  },
  {
   "cell_type": "code",
   "execution_count": 1,
   "id": "4bb05c96-93dc-4724-90e2-d40c81b91d9f",
   "metadata": {},
   "outputs": [],
   "source": [
    "import logging\n",
    "import traceback\n",
    "from remyxai.client.myxboard import MyxBoard\n",
    "from remyxai.client.remyx_client import RemyxAPI\n",
    "from remyxai.api.evaluations import EvaluationTask, list_evaluations, download_evaluation"
   ]
  },
  {
   "cell_type": "markdown",
   "id": "9b358fc4-4c7b-45a6-a1e7-b86568ea2e0d",
   "metadata": {},
   "source": [
    "### Step 1: Select Variants of the Qwen Model Family for Evaluation"
   ]
  },
  {
   "cell_type": "markdown",
   "id": "05eab78e-79c2-4863-93d5-c0c2c678de20",
   "metadata": {},
   "source": [
    "We will evaluate all available Qwen variants to determine the best performer for specific tasks."
   ]
  },
  {
   "cell_type": "code",
   "execution_count": 2,
   "id": "78c3c68c-4105-41b7-aaf2-fc1e2b42ef9a",
   "metadata": {},
   "outputs": [],
   "source": [
    "models = [\n",
    "    'Qwen/Qwen-7B',\n",
    "    'Qwen/Qwen-7B-Instruct',\n",
    "    'Qwen/Qwen2.5-0.5B',\n",
    "    'Qwen/Qwen2.5-0.5B-Instruct',\n",
    "    'Qwen/Qwen2-1.5B',\n",
    "    'Qwen/Qwen2-1.5B-Instruct'\n",
    "]"
   ]
  },
  {
   "cell_type": "markdown",
   "id": "8d812fe6-8da8-48db-8a5c-4d26f5a6fd48",
   "metadata": {},
   "source": [
    "### Create a MyxBoard for Evaluation"
   ]
  },
  {
   "cell_type": "code",
   "execution_count": 3,
   "id": "24590b9c-d5e1-4bc5-8366-22635887bb94",
   "metadata": {},
   "outputs": [
    {
     "data": {
      "text/plain": [
       "<remyxai.client.myxboard.MyxBoard at 0x7fe3238edcf0>"
      ]
     },
     "execution_count": 3,
     "metadata": {},
     "output_type": "execute_result"
    }
   ],
   "source": [
    "myx_board_name = \"qwen_family_comparison\"\n",
    "myx_board = MyxBoard(model_repo_ids=models, name=myx_board_name)\n",
    "myx_board"
   ]
  },
  {
   "cell_type": "markdown",
   "id": "32b7843d-503e-4e2d-81d8-74632ffb7f29",
   "metadata": {},
   "source": [
    "### Initialize the RemyxAPI"
   ]
  },
  {
   "cell_type": "code",
   "execution_count": 4,
   "id": "ad342083-65ed-4a88-8d44-520ca6e1c032",
   "metadata": {},
   "outputs": [
    {
     "data": {
      "text/plain": [
       "<remyxai.client.remyx_client.RemyxAPI at 0x7fe3238ede70>"
      ]
     },
     "execution_count": 4,
     "metadata": {},
     "output_type": "execute_result"
    }
   ],
   "source": [
    "remyx_api = RemyxAPI()\n",
    "remyx_api"
   ]
  },
  {
   "cell_type": "markdown",
   "id": "dcaf8d7a-b64a-42ed-8da5-65ec03dd7842",
   "metadata": {},
   "source": [
    "### Define Evaluation Tasks"
   ]
  },
  {
   "cell_type": "code",
   "execution_count": 5,
   "id": "f67c0d4e-0637-40ab-bcbf-322fe9c8773f",
   "metadata": {},
   "outputs": [],
   "source": [
    "tasks = [EvaluationTask.MYXMATCH]"
   ]
  },
  {
   "cell_type": "markdown",
   "id": "8d0131c3-ceda-4fd7-8c3f-c8de81fcb89a",
   "metadata": {},
   "source": [
    "### Define Prompts for Evaluation"
   ]
  },
  {
   "cell_type": "code",
   "execution_count": 6,
   "id": "6717dd0c-b8cb-4794-a3fc-2b38092f3a5c",
   "metadata": {},
   "outputs": [],
   "source": [
    "prompts = [\n",
    "    \"Summarize the findings of this research on quantum computing.\",\n",
    "    \"Explain the side effects of Drug Y in patients with kidney disease.\",\n",
    "    \"What are the economic implications of AI in manufacturing?\",\n",
    "    \"Generate a step-by-step solution to this calculus problem: ∫x^2 dx.\"\n",
    "]"
   ]
  },
  {
   "cell_type": "markdown",
   "id": "314a37dc-bbd5-440d-9645-2a8855446903",
   "metadata": {},
   "source": [
    "### Run Evaluation"
   ]
  },
  {
   "cell_type": "code",
   "execution_count": 7,
   "id": "ec179221-6f8e-4b24-a56b-27cf4e2906d1",
   "metadata": {
    "scrolled": true
   },
   "outputs": [
    {
     "name": "stdout",
     "output_type": "stream",
     "text": [
      "Starting evaluation for Qwen variants...\n",
      "Starting evaluation for Qwen variants...\n",
      "Starting evaluation for Qwen variants...\n"
     ]
    }
   ],
   "source": [
    "for prompt in prompts:\n",
    "    remyx_api.evaluate(myx_board, tasks, prompt=prompt)"
   ]
  },
  {
   "cell_type": "markdown",
   "id": "1fd8a716-e9c0-441b-995e-43e22a3d2f5c",
   "metadata": {},
   "source": [
    "### Check Evaluation Status"
   ]
  },
  {
   "cell_type": "code",
   "execution_count": 8,
   "id": "6b4563fa-f1ed-4791-b4ef-8bbfe4793ff0",
   "metadata": {},
   "outputs": [
    {
     "data": {
      "text/plain": [
       "[{'eval_type': 'myxmatch',\n",
       "  'name': 'qwen_family_comparison',\n",
       "  'status': 'FINISHED'}]"
      ]
     },
     "execution_count": 8,
     "metadata": {},
     "output_type": "execute_result"
    }
   ],
   "source": [
    "evaluations = list_evaluations()\n",
    "evaluations"
   ]
  },
  {
   "cell_type": "markdown",
   "id": "d4b79f43-604c-4f18-89e8-dc65c1e08b1d",
   "metadata": {},
   "source": [
    "### Download Results for Analysis"
   ]
  },
  {
   "cell_type": "code",
   "execution_count": 9,
   "id": "54d67df5-bb43-42b8-bf9c-24c798e8d425",
   "metadata": {},
   "outputs": [
    {
     "data": {
      "text/plain": [
       "{'models': [{'model': 'Qwen2-1.5B-Instruct', 'rank': 1},\n",
       "  {'model': 'Qwen-14B-Instruct', 'rank': 2},\n",
       "  {'model': 'Qwen-14B', 'rank': 3},\n",
       "  {'model': 'Qwen-7B-Instruct', 'rank': 4},\n",
       "  {'model': 'Qwen-7B', 'rank': 5},\n",
       "  {'model': 'Qwen2-1.5B', 'rank': 6}],\n",
       " 'prompt': 'Summarize the findings of this research on quantum computing.'}"
      ]
     },
     "execution_count": 9,
     "metadata": {},
     "output_type": "execute_result"
    }
   ],
   "source": [
    "results = download_evaluation(\"myxmatch\", \"qwen_family_comparison\")\n",
    "results['message']"
   ]
  },
  {
   "cell_type": "markdown",
   "id": "1be87107-07d1-493c-89cf-6ac8e9291729",
   "metadata": {},
   "source": [
    "### Results Summary"
   ]
  },
  {
   "cell_type": "markdown",
   "id": "d558b8a8-6e22-4c7a-a25c-c8cf6df2a948",
   "metadata": {},
   "source": [
    "- **Top Variant in Qwen Family**: `Qwen2-1.5B-Instruct` ranks the highest for performance across prompts.\n",
    "- **Other Strong Performers**: `Qwen-14B-Instruct` and `Qwen-14B` also deliver competitive results.\n",
    "\n",
    "Based on this evaluation, integrate `Qwen2-1.5B-Instruct` into production for tasks requiring the best overall performance in the Qwen family."
   ]
  }
 ],
 "metadata": {
  "kernelspec": {
   "display_name": "Python 3 (ipykernel)",
   "language": "python",
   "name": "python3"
  },
  "language_info": {
   "codemirror_mode": {
    "name": "ipython",
    "version": 3
   },
   "file_extension": ".py",
   "mimetype": "text/x-python",
   "name": "python",
   "nbconvert_exporter": "python",
   "pygments_lexer": "ipython3",
   "version": "3.10.15"
  }
 },
 "nbformat": 4,
 "nbformat_minor": 5
}
