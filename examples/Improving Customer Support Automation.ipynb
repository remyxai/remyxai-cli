{
 "cells": [
  {
   "cell_type": "markdown",
   "id": "6ec165ea-0eee-44a4-a05e-1b59ea362f91",
   "metadata": {},
   "source": [
    "## Improving Customer Support Automation\n"
   ]
  },
  {
   "cell_type": "markdown",
   "id": "6a7f8089-b865-411e-8d50-4372c41763aa",
   "metadata": {},
   "source": [
    "### Prerequisites to follow this notebook:"
   ]
  },
  {
   "cell_type": "markdown",
   "id": "3af8b1ad-4bbe-4b91-8af8-15b799338d7e",
   "metadata": {},
   "source": [
    "1. install the remyxai-cli: `pip install git+https://github.com/remyxai/remyxai-cli.git`\n",
    "2. Make sure the REMYXAI_API_KEY is set in the environment variable"
   ]
  },
  {
   "cell_type": "code",
   "execution_count": 3,
   "id": "3b9a03a2-6469-4e87-86ad-8668e104e6e2",
   "metadata": {},
   "outputs": [],
   "source": [
    "import logging\n",
    "import traceback\n",
    "from remyxai.client.myxboard import MyxBoard\n",
    "from remyxai.client.remyx_client import RemyxAPI\n",
    "from remyxai.api.evaluations import EvaluationTask"
   ]
  },
  {
   "cell_type": "markdown",
   "id": "4fed21c4-b1d7-4c52-814f-6ea40abdc454",
   "metadata": {},
   "source": [
    "### Step 1: Figure out which models is has the highest score for customer prompts"
   ]
  },
  {
   "cell_type": "markdown",
   "id": "21d2ce6a-4bcd-4617-bad6-628d9f15bc4c",
   "metadata": {},
   "source": [
    "For that we will select several latest models for the evaluation, make sure the models you select should supported by the remyx, checkout all the supported models from here: ___.  "
   ]
  },
  {
   "cell_type": "code",
   "execution_count": 12,
   "id": "eba2744b-8aef-4f4a-89cd-038349de0137",
   "metadata": {},
   "outputs": [],
   "source": [
    "model_ids = ['microsoft/Phi-3-mini-4k-instruct', 'BioMistral/BioMistral-7B', 'codellama/CodeLlama-7b-Instruct-hf', 'gorilla-llm/gorilla-openfunctions-v2', 'meta-llama/Llama-2-7b-hf', 'mistralai/Mistral-7B-Instruct-v0.3', 'meta-llama/Meta-Llama-3-8B', 'meta-llama/Meta-Llama-3-8B-Instruct', 'Qwen/Qwen2-1.5B', 'Qwen/Qwen2-1.5B-Instruct']  # Replace with your preferred models"
   ]
  },
  {
   "cell_type": "markdown",
   "id": "65db1505-9df1-42c8-bd91-e7d81139649f",
   "metadata": {},
   "source": [
    "create a myxboard, all the results for this evaluation will be stored in this board"
   ]
  },
  {
   "cell_type": "code",
   "execution_count": 15,
   "id": "1cc5bfc5-7798-4097-a2d2-efd1d233158c",
   "metadata": {},
   "outputs": [
    {
     "data": {
      "text/plain": [
       "<remyxai.client.myxboard.MyxBoard at 0x7fe3238edcf0>"
      ]
     },
     "execution_count": 15,
     "metadata": {},
     "output_type": "execute_result"
    }
   ],
   "source": [
    "myx_board_name = \"customer_support_myxboard\"\n",
    "myx_board = MyxBoard(model_repo_ids=model_ids, name=myx_board_name)\n",
    "myx_board"
   ]
  },
  {
   "cell_type": "markdown",
   "id": "96c4abf4-36da-42e6-bd56-f7509b6d23d8",
   "metadata": {},
   "source": [
    "Initialize the RemyxAPI class which will help us to run the services without defining the urls"
   ]
  },
  {
   "cell_type": "code",
   "execution_count": 17,
   "id": "418cc6f8-2dcb-4619-a74b-bd5c8c10334b",
   "metadata": {},
   "outputs": [
    {
     "data": {
      "text/plain": [
       "<remyxai.client.remyx_client.RemyxAPI at 0x7fe3238ede70>"
      ]
     },
     "execution_count": 17,
     "metadata": {},
     "output_type": "execute_result"
    }
   ],
   "source": [
    "remyx_api = RemyxAPI()\n",
    "remyx_api"
   ]
  },
  {
   "cell_type": "markdown",
   "id": "b1edd97e-52e1-488d-a3b8-3f3ede49e0e8",
   "metadata": {},
   "source": [
    "It's time to define the tasks(services) we want to use. We will be going to use Myxmatch, which comes under remyx evaluation tasks. To learn more about how remyx works visit here: ___."
   ]
  },
  {
   "cell_type": "code",
   "execution_count": 18,
   "id": "479d0c08-2157-4e5a-bb4c-a1735c9528af",
   "metadata": {},
   "outputs": [],
   "source": [
    "tasks = [EvaluationTask.MYXMATCH]"
   ]
  },
  {
   "cell_type": "markdown",
   "id": "dbab58b3-aee6-4546-814b-52862a84e996",
   "metadata": {},
   "source": [
    "Now, we need to define the prompts what customers going to use when using our customer support agent. The prompts should be as close to what prompts going to use in the production by the customer then only our evaluation results can help use to understand the limitations of models and pick the best model. "
   ]
  },
  {
   "cell_type": "markdown",
   "id": "67ec4eba-54e3-4a40-b830-03210b5c4d1f",
   "metadata": {},
   "source": [
    "Use Atleast 3 prompts"
   ]
  },
  {
   "cell_type": "code",
   "execution_count": 20,
   "id": "4cd3cd31-32a0-4023-a35c-d7ef0874652c",
   "metadata": {},
   "outputs": [],
   "source": [
    "prompts = [\n",
    "        \"I want to return an item. It was damaged on delivery.\",\n",
    "        \"Why hasn’t my package arrived? It was supposed to be delivered yesterday.\",\n",
    "        \"Your product is defective. It doesn't work as advertised.\",\n",
    "    ]\n"
   ]
  },
  {
   "cell_type": "markdown",
   "id": "e6aa3786-61af-41ea-824b-708e9a1556a7",
   "metadata": {},
   "source": [
    "`remyx_api.evaluate` function will call the Remyx evaluation API. Myxmatch takes about 10 minutes to complete, it is an async API, instead of waiting for the tasks to complete it will response back after initiating all the tasks in the background. "
   ]
  },
  {
   "cell_type": "code",
   "execution_count": 13,
   "id": "0aeb28e6-6c57-4d06-b9a7-ebfe675b8751",
   "metadata": {
    "scrolled": true
   },
   "outputs": [
    {
     "name": "stdout",
     "output_type": "stream",
     "text": [
      "Starting evaluation...\n",
      "Starting evaluation...\n",
      "Starting evaluation...\n"
     ]
    },
    {
     "name": "stderr",
     "output_type": "stream",
     "text": [
      "ERROR:root:HTTP error occurred: 403 Client Error: FORBIDDEN for url: https://engine.remyx.ai/api/v1.0/task/job-status/myxmatch-task-87ba56c7-cff9-459b-84a7-d1c1073f2550\n",
      "ERROR:root:Failed to update MyxBoard: 403\n",
      "ERROR:root:HTTP error occurred: 403 Client Error: FORBIDDEN for url: https://engine.remyx.ai/api/v1.0/task/job-status/myxmatch-task-87ba56c7-cff9-459b-84a7-d1c1073f2550\n",
      "ERROR:root:Failed to update MyxBoard: 403\n",
      "ERROR:root:HTTP error occurred: 403 Client Error: FORBIDDEN for url: https://engine.remyx.ai/api/v1.0/task/job-status/myxmatch-task-87ba56c7-cff9-459b-84a7-d1c1073f2550\n",
      "ERROR:root:Failed to update MyxBoard: 403\n",
      "ERROR:root:HTTP error occurred: 403 Client Error: FORBIDDEN for url: https://engine.remyx.ai/api/v1.0/task/job-status/myxmatch-task-87ba56c7-cff9-459b-84a7-d1c1073f2550\n",
      "ERROR:root:Failed to update MyxBoard: 403\n",
      "ERROR:root:HTTP error occurred: 403 Client Error: FORBIDDEN for url: https://engine.remyx.ai/api/v1.0/task/job-status/myxmatch-task-87ba56c7-cff9-459b-84a7-d1c1073f2550\n",
      "ERROR:root:Failed to update MyxBoard: 403\n",
      "ERROR:root:HTTP error occurred: 403 Client Error: FORBIDDEN for url: https://engine.remyx.ai/api/v1.0/task/job-status/myxmatch-task-87ba56c7-cff9-459b-84a7-d1c1073f2550\n",
      "ERROR:root:Failed to update MyxBoard: 403\n",
      "ERROR:root:HTTP error occurred: 403 Client Error: FORBIDDEN for url: https://engine.remyx.ai/api/v1.0/task/job-status/myxmatch-task-87ba56c7-cff9-459b-84a7-d1c1073f2550\n",
      "ERROR:root:Failed to update MyxBoard: 403\n",
      "ERROR:root:HTTP error occurred: 403 Client Error: FORBIDDEN for url: https://engine.remyx.ai/api/v1.0/task/job-status/myxmatch-task-87ba56c7-cff9-459b-84a7-d1c1073f2550\n",
      "ERROR:root:HTTP error occurred: 403 Client Error: FORBIDDEN for url: https://engine.remyx.ai/api/v1.0/task/job-status/myxmatch-task-87ba56c7-cff9-459b-84a7-d1c1073f2550\n",
      "ERROR:root:Failed to update MyxBoard: 403\n",
      "ERROR:root:Failed to update MyxBoard: 403\n",
      "ERROR:root:HTTP error occurred: 403 Client Error: FORBIDDEN for url: https://engine.remyx.ai/api/v1.0/task/job-status/myxmatch-task-87ba56c7-cff9-459b-84a7-d1c1073f2550\n",
      "ERROR:root:Failed to update MyxBoard: 403\n",
      "ERROR:root:HTTP error occurred: 403 Client Error: FORBIDDEN for url: https://engine.remyx.ai/api/v1.0/task/job-status/myxmatch-task-87ba56c7-cff9-459b-84a7-d1c1073f2550\n",
      "ERROR:root:HTTP error occurred: 403 Client Error: FORBIDDEN for url: https://engine.remyx.ai/api/v1.0/task/job-status/myxmatch-task-87ba56c7-cff9-459b-84a7-d1c1073f2550\n",
      "ERROR:root:Failed to update MyxBoard: 403\n",
      "ERROR:root:Failed to update MyxBoard: 403\n",
      "ERROR:root:HTTP error occurred: 403 Client Error: FORBIDDEN for url: https://engine.remyx.ai/api/v1.0/task/job-status/myxmatch-task-87ba56c7-cff9-459b-84a7-d1c1073f2550\n",
      "ERROR:root:Failed to update MyxBoard: 403\n",
      "ERROR:root:HTTP error occurred: 403 Client Error: FORBIDDEN for url: https://engine.remyx.ai/api/v1.0/task/job-status/myxmatch-task-87ba56c7-cff9-459b-84a7-d1c1073f2550\n",
      "ERROR:root:HTTP error occurred: 403 Client Error: FORBIDDEN for url: https://engine.remyx.ai/api/v1.0/task/job-status/myxmatch-task-87ba56c7-cff9-459b-84a7-d1c1073f2550\n",
      "ERROR:root:Failed to update MyxBoard: 403\n",
      "ERROR:root:Failed to update MyxBoard: 403\n",
      "ERROR:root:HTTP error occurred: 403 Client Error: FORBIDDEN for url: https://engine.remyx.ai/api/v1.0/task/job-status/myxmatch-task-87ba56c7-cff9-459b-84a7-d1c1073f2550\n",
      "ERROR:root:Failed to update MyxBoard: 403\n",
      "ERROR:root:HTTP error occurred: 403 Client Error: FORBIDDEN for url: https://engine.remyx.ai/api/v1.0/task/job-status/myxmatch-task-87ba56c7-cff9-459b-84a7-d1c1073f2550\n",
      "ERROR:root:HTTP error occurred: 403 Client Error: FORBIDDEN for url: https://engine.remyx.ai/api/v1.0/task/job-status/myxmatch-task-87ba56c7-cff9-459b-84a7-d1c1073f2550\n",
      "ERROR:root:Failed to update MyxBoard: 403\n",
      "ERROR:root:Failed to update MyxBoard: 403\n",
      "ERROR:root:HTTP error occurred: 403 Client Error: FORBIDDEN for url: https://engine.remyx.ai/api/v1.0/task/job-status/myxmatch-task-87ba56c7-cff9-459b-84a7-d1c1073f2550\n",
      "ERROR:root:Failed to update MyxBoard: 403\n",
      "ERROR:root:HTTP error occurred: 403 Client Error: FORBIDDEN for url: https://engine.remyx.ai/api/v1.0/task/job-status/myxmatch-task-87ba56c7-cff9-459b-84a7-d1c1073f2550\n",
      "ERROR:root:Failed to update MyxBoard: 403\n",
      "ERROR:root:HTTP error occurred: 403 Client Error: FORBIDDEN for url: https://engine.remyx.ai/api/v1.0/task/job-status/myxmatch-task-87ba56c7-cff9-459b-84a7-d1c1073f2550\n",
      "ERROR:root:Failed to update MyxBoard: 403\n",
      "ERROR:root:HTTP error occurred: 403 Client Error: FORBIDDEN for url: https://engine.remyx.ai/api/v1.0/task/job-status/myxmatch-task-87ba56c7-cff9-459b-84a7-d1c1073f2550\n",
      "ERROR:root:Failed to update MyxBoard: 403\n",
      "ERROR:root:HTTP error occurred: 403 Client Error: FORBIDDEN for url: https://engine.remyx.ai/api/v1.0/task/job-status/myxmatch-task-87ba56c7-cff9-459b-84a7-d1c1073f2550\n",
      "ERROR:root:Failed to update MyxBoard: 403\n",
      "ERROR:root:HTTP error occurred: 403 Client Error: FORBIDDEN for url: https://engine.remyx.ai/api/v1.0/task/job-status/myxmatch-task-87ba56c7-cff9-459b-84a7-d1c1073f2550\n",
      "ERROR:root:Failed to update MyxBoard: 403\n",
      "ERROR:root:HTTP error occurred: 403 Client Error: FORBIDDEN for url: https://engine.remyx.ai/api/v1.0/task/job-status/myxmatch-task-87ba56c7-cff9-459b-84a7-d1c1073f2550\n",
      "ERROR:root:Failed to update MyxBoard: 403\n",
      "ERROR:root:HTTP error occurred: 403 Client Error: FORBIDDEN for url: https://engine.remyx.ai/api/v1.0/task/job-status/myxmatch-task-87ba56c7-cff9-459b-84a7-d1c1073f2550\n",
      "ERROR:root:Failed to update MyxBoard: 403\n",
      "ERROR:root:HTTP error occurred: 403 Client Error: FORBIDDEN for url: https://engine.remyx.ai/api/v1.0/task/job-status/myxmatch-task-87ba56c7-cff9-459b-84a7-d1c1073f2550\n",
      "ERROR:root:Failed to update MyxBoard: 403\n",
      "ERROR:root:HTTP error occurred: 403 Client Error: FORBIDDEN for url: https://engine.remyx.ai/api/v1.0/task/job-status/myxmatch-task-87ba56c7-cff9-459b-84a7-d1c1073f2550\n",
      "ERROR:root:Failed to update MyxBoard: 403\n",
      "ERROR:root:HTTP error occurred: 403 Client Error: FORBIDDEN for url: https://engine.remyx.ai/api/v1.0/task/job-status/myxmatch-task-87ba56c7-cff9-459b-84a7-d1c1073f2550\n",
      "ERROR:root:Failed to update MyxBoard: 403\n",
      "ERROR:root:HTTP error occurred: 403 Client Error: FORBIDDEN for url: https://engine.remyx.ai/api/v1.0/task/job-status/myxmatch-task-87ba56c7-cff9-459b-84a7-d1c1073f2550\n",
      "ERROR:root:Failed to update MyxBoard: 403\n",
      "ERROR:root:HTTP error occurred: 403 Client Error: FORBIDDEN for url: https://engine.remyx.ai/api/v1.0/task/job-status/myxmatch-task-87ba56c7-cff9-459b-84a7-d1c1073f2550\n",
      "ERROR:root:Failed to update MyxBoard: 403\n",
      "ERROR:root:HTTP error occurred: 403 Client Error: FORBIDDEN for url: https://engine.remyx.ai/api/v1.0/task/job-status/myxmatch-task-87ba56c7-cff9-459b-84a7-d1c1073f2550\n",
      "ERROR:root:Failed to update MyxBoard: 403\n",
      "ERROR:root:HTTP error occurred: 403 Client Error: FORBIDDEN for url: https://engine.remyx.ai/api/v1.0/task/job-status/myxmatch-task-87ba56c7-cff9-459b-84a7-d1c1073f2550\n",
      "ERROR:root:Failed to update MyxBoard: 403\n",
      "ERROR:root:HTTP error occurred: 403 Client Error: FORBIDDEN for url: https://engine.remyx.ai/api/v1.0/task/job-status/myxmatch-task-87ba56c7-cff9-459b-84a7-d1c1073f2550\n",
      "ERROR:root:Failed to update MyxBoard: 403\n",
      "ERROR:root:HTTP error occurred: 403 Client Error: FORBIDDEN for url: https://engine.remyx.ai/api/v1.0/task/job-status/myxmatch-task-87ba56c7-cff9-459b-84a7-d1c1073f2550\n",
      "ERROR:root:Failed to update MyxBoard: 403\n",
      "ERROR:root:HTTP error occurred: 403 Client Error: FORBIDDEN for url: https://engine.remyx.ai/api/v1.0/task/job-status/myxmatch-task-87ba56c7-cff9-459b-84a7-d1c1073f2550\n",
      "ERROR:root:Failed to update MyxBoard: 403\n",
      "ERROR:root:HTTP error occurred: 403 Client Error: FORBIDDEN for url: https://engine.remyx.ai/api/v1.0/task/job-status/myxmatch-task-87ba56c7-cff9-459b-84a7-d1c1073f2550\n",
      "ERROR:root:Failed to update MyxBoard: 403\n",
      "ERROR:root:HTTP error occurred: 403 Client Error: FORBIDDEN for url: https://engine.remyx.ai/api/v1.0/task/job-status/myxmatch-task-87ba56c7-cff9-459b-84a7-d1c1073f2550\n",
      "ERROR:root:Failed to update MyxBoard: 403\n",
      "ERROR:root:HTTP error occurred: 403 Client Error: FORBIDDEN for url: https://engine.remyx.ai/api/v1.0/task/job-status/myxmatch-task-87ba56c7-cff9-459b-84a7-d1c1073f2550\n",
      "ERROR:root:Failed to update MyxBoard: 403\n",
      "ERROR:root:HTTP error occurred: 403 Client Error: FORBIDDEN for url: https://engine.remyx.ai/api/v1.0/task/job-status/myxmatch-task-87ba56c7-cff9-459b-84a7-d1c1073f2550\n",
      "ERROR:root:Failed to update MyxBoard: 403\n",
      "ERROR:root:HTTP error occurred: 403 Client Error: FORBIDDEN for url: https://engine.remyx.ai/api/v1.0/task/job-status/myxmatch-task-87ba56c7-cff9-459b-84a7-d1c1073f2550\n",
      "ERROR:root:Failed to update MyxBoard: 403\n",
      "ERROR:root:HTTP error occurred: 403 Client Error: FORBIDDEN for url: https://engine.remyx.ai/api/v1.0/task/job-status/myxmatch-task-87ba56c7-cff9-459b-84a7-d1c1073f2550\n",
      "ERROR:root:Failed to update MyxBoard: 403\n",
      "ERROR:root:HTTP error occurred: 403 Client Error: FORBIDDEN for url: https://engine.remyx.ai/api/v1.0/task/job-status/myxmatch-task-87ba56c7-cff9-459b-84a7-d1c1073f2550\n",
      "ERROR:root:HTTP error occurred: 403 Client Error: FORBIDDEN for url: https://engine.remyx.ai/api/v1.0/task/job-status/myxmatch-task-87ba56c7-cff9-459b-84a7-d1c1073f2550\n",
      "ERROR:root:Failed to update MyxBoard: 403\n",
      "ERROR:root:Failed to update MyxBoard: 403\n",
      "ERROR:root:HTTP error occurred: 403 Client Error: FORBIDDEN for url: https://engine.remyx.ai/api/v1.0/task/job-status/myxmatch-task-87ba56c7-cff9-459b-84a7-d1c1073f2550\n",
      "ERROR:root:Failed to update MyxBoard: 403\n",
      "ERROR:root:HTTP error occurred: 403 Client Error: FORBIDDEN for url: https://engine.remyx.ai/api/v1.0/task/job-status/myxmatch-task-87ba56c7-cff9-459b-84a7-d1c1073f2550\n",
      "ERROR:root:HTTP error occurred: 403 Client Error: FORBIDDEN for url: https://engine.remyx.ai/api/v1.0/task/job-status/myxmatch-task-87ba56c7-cff9-459b-84a7-d1c1073f2550\n",
      "ERROR:root:Failed to update MyxBoard: 403\n",
      "ERROR:root:Failed to update MyxBoard: 403\n",
      "ERROR:root:HTTP error occurred: 403 Client Error: FORBIDDEN for url: https://engine.remyx.ai/api/v1.0/task/job-status/myxmatch-task-87ba56c7-cff9-459b-84a7-d1c1073f2550\n",
      "ERROR:root:Failed to update MyxBoard: 403\n",
      "ERROR:root:HTTP error occurred: 403 Client Error: FORBIDDEN for url: https://engine.remyx.ai/api/v1.0/task/job-status/myxmatch-task-87ba56c7-cff9-459b-84a7-d1c1073f2550\n",
      "ERROR:root:HTTP error occurred: 403 Client Error: FORBIDDEN for url: https://engine.remyx.ai/api/v1.0/task/job-status/myxmatch-task-87ba56c7-cff9-459b-84a7-d1c1073f2550\n",
      "ERROR:root:Failed to update MyxBoard: 403\n",
      "ERROR:root:Failed to update MyxBoard: 403\n",
      "ERROR:root:HTTP error occurred: 403 Client Error: FORBIDDEN for url: https://engine.remyx.ai/api/v1.0/task/job-status/myxmatch-task-87ba56c7-cff9-459b-84a7-d1c1073f2550\n",
      "ERROR:root:Failed to update MyxBoard: 403\n",
      "ERROR:root:HTTP error occurred: 403 Client Error: FORBIDDEN for url: https://engine.remyx.ai/api/v1.0/task/job-status/myxmatch-task-87ba56c7-cff9-459b-84a7-d1c1073f2550\n",
      "ERROR:root:Failed to update MyxBoard: 403\n",
      "ERROR:root:HTTP error occurred: 403 Client Error: FORBIDDEN for url: https://engine.remyx.ai/api/v1.0/task/job-status/myxmatch-task-87ba56c7-cff9-459b-84a7-d1c1073f2550\n",
      "ERROR:root:Failed to update MyxBoard: 403\n",
      "ERROR:root:HTTP error occurred: 403 Client Error: FORBIDDEN for url: https://engine.remyx.ai/api/v1.0/task/job-status/myxmatch-task-87ba56c7-cff9-459b-84a7-d1c1073f2550\n",
      "ERROR:root:Failed to update MyxBoard: 403\n",
      "ERROR:root:HTTP error occurred: 403 Client Error: FORBIDDEN for url: https://engine.remyx.ai/api/v1.0/task/job-status/myxmatch-task-87ba56c7-cff9-459b-84a7-d1c1073f2550\n",
      "ERROR:root:HTTP error occurred: 403 Client Error: FORBIDDEN for url: https://engine.remyx.ai/api/v1.0/task/job-status/myxmatch-task-87ba56c7-cff9-459b-84a7-d1c1073f2550\n",
      "ERROR:root:HTTP error occurred: 403 Client Error: FORBIDDEN for url: https://engine.remyx.ai/api/v1.0/task/job-status/myxmatch-task-87ba56c7-cff9-459b-84a7-d1c1073f2550\n",
      "ERROR:root:Failed to update MyxBoard: 403\n",
      "ERROR:root:Failed to update MyxBoard: 403\n",
      "ERROR:root:Failed to update MyxBoard: 403\n",
      "ERROR:root:HTTP error occurred: 403 Client Error: FORBIDDEN for url: https://engine.remyx.ai/api/v1.0/task/job-status/myxmatch-task-87ba56c7-cff9-459b-84a7-d1c1073f2550\n",
      "ERROR:root:HTTP error occurred: 403 Client Error: FORBIDDEN for url: https://engine.remyx.ai/api/v1.0/task/job-status/myxmatch-task-87ba56c7-cff9-459b-84a7-d1c1073f2550\n",
      "ERROR:root:HTTP error occurred: 403 Client Error: FORBIDDEN for url: https://engine.remyx.ai/api/v1.0/task/job-status/myxmatch-task-87ba56c7-cff9-459b-84a7-d1c1073f2550\n",
      "ERROR:root:Failed to update MyxBoard: 403\n",
      "ERROR:root:Failed to update MyxBoard: 403\n",
      "ERROR:root:Failed to update MyxBoard: 403\n",
      "ERROR:root:HTTP error occurred: 403 Client Error: FORBIDDEN for url: https://engine.remyx.ai/api/v1.0/task/job-status/myxmatch-task-87ba56c7-cff9-459b-84a7-d1c1073f2550\n",
      "ERROR:root:HTTP error occurred: 403 Client Error: FORBIDDEN for url: https://engine.remyx.ai/api/v1.0/task/job-status/myxmatch-task-87ba56c7-cff9-459b-84a7-d1c1073f2550\n",
      "ERROR:root:HTTP error occurred: 403 Client Error: FORBIDDEN for url: https://engine.remyx.ai/api/v1.0/task/job-status/myxmatch-task-87ba56c7-cff9-459b-84a7-d1c1073f2550\n",
      "ERROR:root:Failed to update MyxBoard: 403\n",
      "ERROR:root:Failed to update MyxBoard: 403\n",
      "ERROR:root:Failed to update MyxBoard: 403\n",
      "ERROR:root:HTTP error occurred: 403 Client Error: FORBIDDEN for url: https://engine.remyx.ai/api/v1.0/task/job-status/myxmatch-task-87ba56c7-cff9-459b-84a7-d1c1073f2550\n",
      "ERROR:root:HTTP error occurred: 403 Client Error: FORBIDDEN for url: https://engine.remyx.ai/api/v1.0/task/job-status/myxmatch-task-87ba56c7-cff9-459b-84a7-d1c1073f2550\n",
      "ERROR:root:HTTP error occurred: 403 Client Error: FORBIDDEN for url: https://engine.remyx.ai/api/v1.0/task/job-status/myxmatch-task-87ba56c7-cff9-459b-84a7-d1c1073f2550\n",
      "ERROR:root:Failed to update MyxBoard: 403\n",
      "ERROR:root:Failed to update MyxBoard: 403\n",
      "ERROR:root:Failed to update MyxBoard: 403\n",
      "ERROR:root:HTTP error occurred: 403 Client Error: FORBIDDEN for url: https://engine.remyx.ai/api/v1.0/task/job-status/myxmatch-task-87ba56c7-cff9-459b-84a7-d1c1073f2550\n",
      "ERROR:root:HTTP error occurred: 403 Client Error: FORBIDDEN for url: https://engine.remyx.ai/api/v1.0/task/job-status/myxmatch-task-87ba56c7-cff9-459b-84a7-d1c1073f2550\n",
      "ERROR:root:HTTP error occurred: 403 Client Error: FORBIDDEN for url: https://engine.remyx.ai/api/v1.0/task/job-status/myxmatch-task-87ba56c7-cff9-459b-84a7-d1c1073f2550\n",
      "ERROR:root:Failed to update MyxBoard: 403\n",
      "ERROR:root:Failed to update MyxBoard: 403\n",
      "ERROR:root:Failed to update MyxBoard: 403\n",
      "ERROR:root:HTTP error occurred: 403 Client Error: FORBIDDEN for url: https://engine.remyx.ai/api/v1.0/task/job-status/myxmatch-task-87ba56c7-cff9-459b-84a7-d1c1073f2550\n",
      "ERROR:root:HTTP error occurred: 403 Client Error: FORBIDDEN for url: https://engine.remyx.ai/api/v1.0/task/job-status/myxmatch-task-87ba56c7-cff9-459b-84a7-d1c1073f2550\n",
      "ERROR:root:HTTP error occurred: 403 Client Error: FORBIDDEN for url: https://engine.remyx.ai/api/v1.0/task/job-status/myxmatch-task-87ba56c7-cff9-459b-84a7-d1c1073f2550\n",
      "ERROR:root:Failed to update MyxBoard: 403\n",
      "ERROR:root:Failed to update MyxBoard: 403\n",
      "ERROR:root:Failed to update MyxBoard: 403\n",
      "ERROR:root:HTTP error occurred: 403 Client Error: FORBIDDEN for url: https://engine.remyx.ai/api/v1.0/task/job-status/myxmatch-task-87ba56c7-cff9-459b-84a7-d1c1073f2550\n",
      "ERROR:root:HTTP error occurred: 403 Client Error: FORBIDDEN for url: https://engine.remyx.ai/api/v1.0/task/job-status/myxmatch-task-87ba56c7-cff9-459b-84a7-d1c1073f2550\n",
      "ERROR:root:HTTP error occurred: 403 Client Error: FORBIDDEN for url: https://engine.remyx.ai/api/v1.0/task/job-status/myxmatch-task-87ba56c7-cff9-459b-84a7-d1c1073f2550\n",
      "ERROR:root:Failed to update MyxBoard: 403\n",
      "ERROR:root:Failed to update MyxBoard: 403\n",
      "ERROR:root:Failed to update MyxBoard: 403\n",
      "ERROR:root:HTTP error occurred: 403 Client Error: FORBIDDEN for url: https://engine.remyx.ai/api/v1.0/task/job-status/myxmatch-task-87ba56c7-cff9-459b-84a7-d1c1073f2550\n",
      "ERROR:root:Failed to update MyxBoard: 403\n",
      "ERROR:root:HTTP error occurred: 403 Client Error: FORBIDDEN for url: https://engine.remyx.ai/api/v1.0/task/job-status/myxmatch-task-87ba56c7-cff9-459b-84a7-d1c1073f2550\n",
      "ERROR:root:HTTP error occurred: 403 Client Error: FORBIDDEN for url: https://engine.remyx.ai/api/v1.0/task/job-status/myxmatch-task-87ba56c7-cff9-459b-84a7-d1c1073f2550\n",
      "ERROR:root:Failed to update MyxBoard: 403\n",
      "ERROR:root:Failed to update MyxBoard: 403\n",
      "ERROR:root:HTTP error occurred: 403 Client Error: FORBIDDEN for url: https://engine.remyx.ai/api/v1.0/task/job-status/myxmatch-task-87ba56c7-cff9-459b-84a7-d1c1073f2550\n",
      "ERROR:root:Failed to update MyxBoard: 403\n",
      "ERROR:root:HTTP error occurred: 403 Client Error: FORBIDDEN for url: https://engine.remyx.ai/api/v1.0/task/job-status/myxmatch-task-87ba56c7-cff9-459b-84a7-d1c1073f2550\n",
      "ERROR:root:HTTP error occurred: 403 Client Error: FORBIDDEN for url: https://engine.remyx.ai/api/v1.0/task/job-status/myxmatch-task-87ba56c7-cff9-459b-84a7-d1c1073f2550\n",
      "ERROR:root:Failed to update MyxBoard: 403\n",
      "ERROR:root:Failed to update MyxBoard: 403\n",
      "ERROR:root:HTTP error occurred: 403 Client Error: FORBIDDEN for url: https://engine.remyx.ai/api/v1.0/task/job-status/myxmatch-task-87ba56c7-cff9-459b-84a7-d1c1073f2550\n",
      "ERROR:root:Failed to update MyxBoard: 403\n",
      "ERROR:root:HTTP error occurred: 403 Client Error: FORBIDDEN for url: https://engine.remyx.ai/api/v1.0/task/job-status/myxmatch-task-87ba56c7-cff9-459b-84a7-d1c1073f2550\n",
      "ERROR:root:Failed to update MyxBoard: 403\n",
      "ERROR:root:HTTP error occurred: 403 Client Error: FORBIDDEN for url: https://engine.remyx.ai/api/v1.0/task/job-status/myxmatch-task-87ba56c7-cff9-459b-84a7-d1c1073f2550\n",
      "ERROR:root:Failed to update MyxBoard: 403\n",
      "ERROR:root:HTTP error occurred: 403 Client Error: FORBIDDEN for url: https://engine.remyx.ai/api/v1.0/task/job-status/myxmatch-task-87ba56c7-cff9-459b-84a7-d1c1073f2550\n",
      "ERROR:root:Failed to update MyxBoard: 403\n",
      "ERROR:root:HTTP error occurred: 403 Client Error: FORBIDDEN for url: https://engine.remyx.ai/api/v1.0/task/job-status/myxmatch-task-87ba56c7-cff9-459b-84a7-d1c1073f2550\n",
      "ERROR:root:Failed to update MyxBoard: 403\n",
      "ERROR:root:HTTP error occurred: 403 Client Error: FORBIDDEN for url: https://engine.remyx.ai/api/v1.0/task/job-status/myxmatch-task-87ba56c7-cff9-459b-84a7-d1c1073f2550\n",
      "ERROR:root:Failed to update MyxBoard: 403\n",
      "ERROR:root:HTTP error occurred: 403 Client Error: FORBIDDEN for url: https://engine.remyx.ai/api/v1.0/task/job-status/myxmatch-task-87ba56c7-cff9-459b-84a7-d1c1073f2550\n",
      "ERROR:root:Failed to update MyxBoard: 403\n",
      "ERROR:root:HTTP error occurred: 403 Client Error: FORBIDDEN for url: https://engine.remyx.ai/api/v1.0/task/job-status/myxmatch-task-87ba56c7-cff9-459b-84a7-d1c1073f2550\n",
      "ERROR:root:Failed to update MyxBoard: 403\n",
      "ERROR:root:HTTP error occurred: 403 Client Error: FORBIDDEN for url: https://engine.remyx.ai/api/v1.0/task/job-status/myxmatch-task-87ba56c7-cff9-459b-84a7-d1c1073f2550\n",
      "ERROR:root:Failed to update MyxBoard: 403\n",
      "ERROR:root:HTTP error occurred: 403 Client Error: FORBIDDEN for url: https://engine.remyx.ai/api/v1.0/task/job-status/myxmatch-task-87ba56c7-cff9-459b-84a7-d1c1073f2550\n",
      "ERROR:root:HTTP error occurred: 403 Client Error: FORBIDDEN for url: https://engine.remyx.ai/api/v1.0/task/job-status/myxmatch-task-87ba56c7-cff9-459b-84a7-d1c1073f2550\n",
      "ERROR:root:Failed to update MyxBoard: 403\n",
      "ERROR:root:Failed to update MyxBoard: 403\n",
      "ERROR:root:HTTP error occurred: 403 Client Error: FORBIDDEN for url: https://engine.remyx.ai/api/v1.0/task/job-status/myxmatch-task-87ba56c7-cff9-459b-84a7-d1c1073f2550\n",
      "ERROR:root:Failed to update MyxBoard: 403\n",
      "ERROR:root:HTTP error occurred: 403 Client Error: FORBIDDEN for url: https://engine.remyx.ai/api/v1.0/task/job-status/myxmatch-task-87ba56c7-cff9-459b-84a7-d1c1073f2550\n",
      "ERROR:root:HTTP error occurred: 403 Client Error: FORBIDDEN for url: https://engine.remyx.ai/api/v1.0/task/job-status/myxmatch-task-87ba56c7-cff9-459b-84a7-d1c1073f2550\n",
      "ERROR:root:Failed to update MyxBoard: 403\n",
      "ERROR:root:Failed to update MyxBoard: 403\n",
      "ERROR:root:HTTP error occurred: 403 Client Error: FORBIDDEN for url: https://engine.remyx.ai/api/v1.0/task/job-status/myxmatch-task-87ba56c7-cff9-459b-84a7-d1c1073f2550\n",
      "ERROR:root:Failed to update MyxBoard: 403\n",
      "ERROR:root:HTTP error occurred: 403 Client Error: FORBIDDEN for url: https://engine.remyx.ai/api/v1.0/task/job-status/myxmatch-task-87ba56c7-cff9-459b-84a7-d1c1073f2550\n",
      "ERROR:root:HTTP error occurred: 403 Client Error: FORBIDDEN for url: https://engine.remyx.ai/api/v1.0/task/job-status/myxmatch-task-87ba56c7-cff9-459b-84a7-d1c1073f2550\n",
      "ERROR:root:Failed to update MyxBoard: 403\n",
      "ERROR:root:Failed to update MyxBoard: 403\n",
      "ERROR:root:HTTP error occurred: 403 Client Error: FORBIDDEN for url: https://engine.remyx.ai/api/v1.0/task/job-status/myxmatch-task-87ba56c7-cff9-459b-84a7-d1c1073f2550\n",
      "ERROR:root:Failed to update MyxBoard: 403\n",
      "ERROR:root:HTTP error occurred: 403 Client Error: FORBIDDEN for url: https://engine.remyx.ai/api/v1.0/task/job-status/myxmatch-task-87ba56c7-cff9-459b-84a7-d1c1073f2550\n",
      "ERROR:root:Failed to update MyxBoard: 403\n",
      "ERROR:root:HTTP error occurred: 403 Client Error: FORBIDDEN for url: https://engine.remyx.ai/api/v1.0/task/job-status/myxmatch-task-87ba56c7-cff9-459b-84a7-d1c1073f2550\n",
      "ERROR:root:Failed to update MyxBoard: 403\n",
      "ERROR:root:HTTP error occurred: 403 Client Error: FORBIDDEN for url: https://engine.remyx.ai/api/v1.0/task/job-status/myxmatch-task-87ba56c7-cff9-459b-84a7-d1c1073f2550\n",
      "ERROR:root:Failed to update MyxBoard: 403\n",
      "ERROR:root:HTTP error occurred: 403 Client Error: FORBIDDEN for url: https://engine.remyx.ai/api/v1.0/task/job-status/myxmatch-task-87ba56c7-cff9-459b-84a7-d1c1073f2550\n",
      "ERROR:root:Failed to update MyxBoard: 403\n",
      "ERROR:root:HTTP error occurred: 403 Client Error: FORBIDDEN for url: https://engine.remyx.ai/api/v1.0/task/job-status/myxmatch-task-87ba56c7-cff9-459b-84a7-d1c1073f2550\n",
      "ERROR:root:Failed to update MyxBoard: 403\n",
      "ERROR:root:HTTP error occurred: 403 Client Error: FORBIDDEN for url: https://engine.remyx.ai/api/v1.0/task/job-status/myxmatch-task-87ba56c7-cff9-459b-84a7-d1c1073f2550\n",
      "ERROR:root:Failed to update MyxBoard: 403\n",
      "ERROR:root:HTTP error occurred: 403 Client Error: FORBIDDEN for url: https://engine.remyx.ai/api/v1.0/task/job-status/myxmatch-task-87ba56c7-cff9-459b-84a7-d1c1073f2550\n",
      "ERROR:root:Failed to update MyxBoard: 403\n",
      "ERROR:root:HTTP error occurred: 403 Client Error: FORBIDDEN for url: https://engine.remyx.ai/api/v1.0/task/job-status/myxmatch-task-87ba56c7-cff9-459b-84a7-d1c1073f2550\n",
      "ERROR:root:Failed to update MyxBoard: 403\n",
      "ERROR:root:HTTP error occurred: 403 Client Error: FORBIDDEN for url: https://engine.remyx.ai/api/v1.0/task/job-status/myxmatch-task-87ba56c7-cff9-459b-84a7-d1c1073f2550\n",
      "ERROR:root:Failed to update MyxBoard: 403\n",
      "ERROR:root:HTTP error occurred: 403 Client Error: FORBIDDEN for url: https://engine.remyx.ai/api/v1.0/task/job-status/myxmatch-task-87ba56c7-cff9-459b-84a7-d1c1073f2550\n",
      "ERROR:root:Failed to update MyxBoard: 403\n",
      "ERROR:root:HTTP error occurred: 403 Client Error: FORBIDDEN for url: https://engine.remyx.ai/api/v1.0/task/job-status/myxmatch-task-87ba56c7-cff9-459b-84a7-d1c1073f2550\n",
      "ERROR:root:Failed to update MyxBoard: 403\n",
      "ERROR:root:HTTP error occurred: 403 Client Error: FORBIDDEN for url: https://engine.remyx.ai/api/v1.0/task/job-status/myxmatch-task-87ba56c7-cff9-459b-84a7-d1c1073f2550\n",
      "ERROR:root:Failed to update MyxBoard: 403\n",
      "ERROR:root:HTTP error occurred: 403 Client Error: FORBIDDEN for url: https://engine.remyx.ai/api/v1.0/task/job-status/myxmatch-task-87ba56c7-cff9-459b-84a7-d1c1073f2550\n",
      "ERROR:root:Failed to update MyxBoard: 403\n",
      "ERROR:root:HTTP error occurred: 403 Client Error: FORBIDDEN for url: https://engine.remyx.ai/api/v1.0/task/job-status/myxmatch-task-87ba56c7-cff9-459b-84a7-d1c1073f2550\n",
      "ERROR:root:Failed to update MyxBoard: 403\n",
      "ERROR:root:HTTP error occurred: 403 Client Error: FORBIDDEN for url: https://engine.remyx.ai/api/v1.0/task/job-status/myxmatch-task-87ba56c7-cff9-459b-84a7-d1c1073f2550\n",
      "ERROR:root:Failed to update MyxBoard: 403\n",
      "ERROR:root:HTTP error occurred: 403 Client Error: FORBIDDEN for url: https://engine.remyx.ai/api/v1.0/task/job-status/myxmatch-task-87ba56c7-cff9-459b-84a7-d1c1073f2550\n",
      "ERROR:root:Failed to update MyxBoard: 403\n",
      "ERROR:root:HTTP error occurred: 403 Client Error: FORBIDDEN for url: https://engine.remyx.ai/api/v1.0/task/job-status/myxmatch-task-87ba56c7-cff9-459b-84a7-d1c1073f2550\n",
      "ERROR:root:Failed to update MyxBoard: 403\n",
      "ERROR:root:HTTP error occurred: 403 Client Error: FORBIDDEN for url: https://engine.remyx.ai/api/v1.0/task/job-status/myxmatch-task-87ba56c7-cff9-459b-84a7-d1c1073f2550\n",
      "ERROR:root:Failed to update MyxBoard: 403\n",
      "ERROR:root:HTTP error occurred: 403 Client Error: FORBIDDEN for url: https://engine.remyx.ai/api/v1.0/task/job-status/myxmatch-task-87ba56c7-cff9-459b-84a7-d1c1073f2550\n",
      "ERROR:root:Failed to update MyxBoard: 403\n",
      "ERROR:root:HTTP error occurred: 403 Client Error: FORBIDDEN for url: https://engine.remyx.ai/api/v1.0/task/job-status/myxmatch-task-87ba56c7-cff9-459b-84a7-d1c1073f2550\n",
      "ERROR:root:Failed to update MyxBoard: 403\n",
      "ERROR:root:HTTP error occurred: 403 Client Error: FORBIDDEN for url: https://engine.remyx.ai/api/v1.0/task/job-status/myxmatch-task-87ba56c7-cff9-459b-84a7-d1c1073f2550\n",
      "ERROR:root:Failed to update MyxBoard: 403\n",
      "ERROR:root:HTTP error occurred: 403 Client Error: FORBIDDEN for url: https://engine.remyx.ai/api/v1.0/task/job-status/myxmatch-task-87ba56c7-cff9-459b-84a7-d1c1073f2550\n",
      "ERROR:root:Failed to update MyxBoard: 403\n",
      "ERROR:root:HTTP error occurred: 403 Client Error: FORBIDDEN for url: https://engine.remyx.ai/api/v1.0/task/job-status/myxmatch-task-87ba56c7-cff9-459b-84a7-d1c1073f2550\n",
      "ERROR:root:Failed to update MyxBoard: 403\n",
      "ERROR:root:HTTP error occurred: 403 Client Error: FORBIDDEN for url: https://engine.remyx.ai/api/v1.0/task/job-status/myxmatch-task-87ba56c7-cff9-459b-84a7-d1c1073f2550\n",
      "ERROR:root:Failed to update MyxBoard: 403\n",
      "ERROR:root:HTTP error occurred: 403 Client Error: FORBIDDEN for url: https://engine.remyx.ai/api/v1.0/task/job-status/myxmatch-task-87ba56c7-cff9-459b-84a7-d1c1073f2550\n",
      "ERROR:root:Failed to update MyxBoard: 403\n",
      "ERROR:root:HTTP error occurred: 403 Client Error: FORBIDDEN for url: https://engine.remyx.ai/api/v1.0/task/job-status/myxmatch-task-87ba56c7-cff9-459b-84a7-d1c1073f2550\n",
      "ERROR:root:Failed to update MyxBoard: 403\n",
      "ERROR:root:HTTP error occurred: 403 Client Error: FORBIDDEN for url: https://engine.remyx.ai/api/v1.0/task/job-status/myxmatch-task-87ba56c7-cff9-459b-84a7-d1c1073f2550\n",
      "ERROR:root:Failed to update MyxBoard: 403\n",
      "ERROR:root:HTTP error occurred: 403 Client Error: FORBIDDEN for url: https://engine.remyx.ai/api/v1.0/task/job-status/myxmatch-task-87ba56c7-cff9-459b-84a7-d1c1073f2550\n",
      "ERROR:root:Failed to update MyxBoard: 403\n",
      "ERROR:root:HTTP error occurred: 403 Client Error: FORBIDDEN for url: https://engine.remyx.ai/api/v1.0/task/job-status/myxmatch-task-87ba56c7-cff9-459b-84a7-d1c1073f2550\n",
      "ERROR:root:Failed to update MyxBoard: 403\n",
      "ERROR:root:HTTP error occurred: 403 Client Error: FORBIDDEN for url: https://engine.remyx.ai/api/v1.0/task/job-status/myxmatch-task-87ba56c7-cff9-459b-84a7-d1c1073f2550\n",
      "ERROR:root:Failed to update MyxBoard: 403\n",
      "ERROR:root:HTTP error occurred: 403 Client Error: FORBIDDEN for url: https://engine.remyx.ai/api/v1.0/task/job-status/myxmatch-task-87ba56c7-cff9-459b-84a7-d1c1073f2550\n",
      "ERROR:root:Failed to update MyxBoard: 403\n",
      "ERROR:root:HTTP error occurred: 403 Client Error: FORBIDDEN for url: https://engine.remyx.ai/api/v1.0/task/job-status/myxmatch-task-87ba56c7-cff9-459b-84a7-d1c1073f2550\n",
      "ERROR:root:Failed to update MyxBoard: 403\n",
      "ERROR:root:HTTP error occurred: 403 Client Error: FORBIDDEN for url: https://engine.remyx.ai/api/v1.0/task/job-status/myxmatch-task-87ba56c7-cff9-459b-84a7-d1c1073f2550\n",
      "ERROR:root:Failed to update MyxBoard: 403\n",
      "ERROR:root:HTTP error occurred: 403 Client Error: FORBIDDEN for url: https://engine.remyx.ai/api/v1.0/task/job-status/myxmatch-task-87ba56c7-cff9-459b-84a7-d1c1073f2550\n",
      "ERROR:root:Failed to update MyxBoard: 403\n",
      "ERROR:root:HTTP error occurred: 403 Client Error: FORBIDDEN for url: https://engine.remyx.ai/api/v1.0/task/job-status/myxmatch-task-87ba56c7-cff9-459b-84a7-d1c1073f2550\n",
      "ERROR:root:Failed to update MyxBoard: 403\n",
      "ERROR:root:HTTP error occurred: 403 Client Error: FORBIDDEN for url: https://engine.remyx.ai/api/v1.0/task/job-status/myxmatch-task-87ba56c7-cff9-459b-84a7-d1c1073f2550\n",
      "ERROR:root:Failed to update MyxBoard: 403\n",
      "ERROR:root:HTTP error occurred: 403 Client Error: FORBIDDEN for url: https://engine.remyx.ai/api/v1.0/task/job-status/myxmatch-task-87ba56c7-cff9-459b-84a7-d1c1073f2550\n",
      "ERROR:root:Failed to update MyxBoard: 403\n",
      "ERROR:root:HTTP error occurred: 403 Client Error: FORBIDDEN for url: https://engine.remyx.ai/api/v1.0/task/job-status/myxmatch-task-87ba56c7-cff9-459b-84a7-d1c1073f2550\n",
      "ERROR:root:Failed to update MyxBoard: 403\n",
      "ERROR:root:HTTP error occurred: 403 Client Error: FORBIDDEN for url: https://engine.remyx.ai/api/v1.0/task/job-status/myxmatch-task-87ba56c7-cff9-459b-84a7-d1c1073f2550\n",
      "ERROR:root:Failed to update MyxBoard: 403\n",
      "ERROR:root:HTTP error occurred: 403 Client Error: FORBIDDEN for url: https://engine.remyx.ai/api/v1.0/task/job-status/myxmatch-task-87ba56c7-cff9-459b-84a7-d1c1073f2550\n",
      "ERROR:root:Failed to update MyxBoard: 403\n",
      "ERROR:root:HTTP error occurred: 403 Client Error: FORBIDDEN for url: https://engine.remyx.ai/api/v1.0/task/job-status/myxmatch-task-87ba56c7-cff9-459b-84a7-d1c1073f2550\n",
      "ERROR:root:Failed to update MyxBoard: 403\n",
      "ERROR:root:HTTP error occurred: 403 Client Error: FORBIDDEN for url: https://engine.remyx.ai/api/v1.0/task/job-status/myxmatch-task-87ba56c7-cff9-459b-84a7-d1c1073f2550\n",
      "ERROR:root:Failed to update MyxBoard: 403\n",
      "ERROR:root:HTTP error occurred: 403 Client Error: FORBIDDEN for url: https://engine.remyx.ai/api/v1.0/task/job-status/myxmatch-task-87ba56c7-cff9-459b-84a7-d1c1073f2550\n",
      "ERROR:root:Failed to update MyxBoard: 403\n",
      "ERROR:root:HTTP error occurred: 403 Client Error: FORBIDDEN for url: https://engine.remyx.ai/api/v1.0/task/job-status/myxmatch-task-87ba56c7-cff9-459b-84a7-d1c1073f2550\n",
      "ERROR:root:Failed to update MyxBoard: 403\n",
      "ERROR:root:HTTP error occurred: 403 Client Error: FORBIDDEN for url: https://engine.remyx.ai/api/v1.0/task/job-status/myxmatch-task-87ba56c7-cff9-459b-84a7-d1c1073f2550\n",
      "ERROR:root:Failed to update MyxBoard: 403\n",
      "ERROR:root:HTTP error occurred: 403 Client Error: FORBIDDEN for url: https://engine.remyx.ai/api/v1.0/task/job-status/myxmatch-task-87ba56c7-cff9-459b-84a7-d1c1073f2550\n",
      "ERROR:root:Failed to update MyxBoard: 403\n",
      "ERROR:root:HTTP error occurred: 403 Client Error: FORBIDDEN for url: https://engine.remyx.ai/api/v1.0/task/job-status/myxmatch-task-87ba56c7-cff9-459b-84a7-d1c1073f2550\n",
      "ERROR:root:Failed to update MyxBoard: 403\n",
      "ERROR:root:HTTP error occurred: 403 Client Error: FORBIDDEN for url: https://engine.remyx.ai/api/v1.0/task/job-status/myxmatch-task-87ba56c7-cff9-459b-84a7-d1c1073f2550\n",
      "ERROR:root:Failed to update MyxBoard: 403\n",
      "ERROR:root:HTTP error occurred: 403 Client Error: FORBIDDEN for url: https://engine.remyx.ai/api/v1.0/task/job-status/myxmatch-task-87ba56c7-cff9-459b-84a7-d1c1073f2550\n",
      "ERROR:root:Failed to update MyxBoard: 403\n",
      "ERROR:root:HTTP error occurred: 403 Client Error: FORBIDDEN for url: https://engine.remyx.ai/api/v1.0/task/job-status/myxmatch-task-87ba56c7-cff9-459b-84a7-d1c1073f2550\n",
      "ERROR:root:Failed to update MyxBoard: 403\n",
      "ERROR:root:HTTP error occurred: 403 Client Error: FORBIDDEN for url: https://engine.remyx.ai/api/v1.0/task/job-status/myxmatch-task-87ba56c7-cff9-459b-84a7-d1c1073f2550\n",
      "ERROR:root:Failed to update MyxBoard: 403\n",
      "ERROR:root:HTTP error occurred: 403 Client Error: FORBIDDEN for url: https://engine.remyx.ai/api/v1.0/task/job-status/myxmatch-task-87ba56c7-cff9-459b-84a7-d1c1073f2550\n",
      "ERROR:root:Failed to update MyxBoard: 403\n",
      "ERROR:root:HTTP error occurred: 403 Client Error: FORBIDDEN for url: https://engine.remyx.ai/api/v1.0/task/job-status/myxmatch-task-87ba56c7-cff9-459b-84a7-d1c1073f2550\n",
      "ERROR:root:Failed to update MyxBoard: 403\n",
      "ERROR:root:HTTP error occurred: 403 Client Error: FORBIDDEN for url: https://engine.remyx.ai/api/v1.0/task/job-status/myxmatch-task-87ba56c7-cff9-459b-84a7-d1c1073f2550\n",
      "ERROR:root:Failed to update MyxBoard: 403\n",
      "ERROR:root:HTTP error occurred: 403 Client Error: FORBIDDEN for url: https://engine.remyx.ai/api/v1.0/task/job-status/myxmatch-task-87ba56c7-cff9-459b-84a7-d1c1073f2550\n",
      "ERROR:root:Failed to update MyxBoard: 403\n",
      "ERROR:root:HTTP error occurred: 403 Client Error: FORBIDDEN for url: https://engine.remyx.ai/api/v1.0/task/job-status/myxmatch-task-87ba56c7-cff9-459b-84a7-d1c1073f2550\n",
      "ERROR:root:Failed to update MyxBoard: 403\n",
      "ERROR:root:HTTP error occurred: 403 Client Error: FORBIDDEN for url: https://engine.remyx.ai/api/v1.0/task/job-status/myxmatch-task-87ba56c7-cff9-459b-84a7-d1c1073f2550\n",
      "ERROR:root:Failed to update MyxBoard: 403\n",
      "ERROR:root:HTTP error occurred: 403 Client Error: FORBIDDEN for url: https://engine.remyx.ai/api/v1.0/task/job-status/myxmatch-task-87ba56c7-cff9-459b-84a7-d1c1073f2550\n",
      "ERROR:root:Failed to update MyxBoard: 403\n",
      "ERROR:root:HTTP error occurred: 403 Client Error: FORBIDDEN for url: https://engine.remyx.ai/api/v1.0/task/job-status/myxmatch-task-87ba56c7-cff9-459b-84a7-d1c1073f2550\n",
      "ERROR:root:Failed to update MyxBoard: 403\n",
      "ERROR:root:HTTP error occurred: 403 Client Error: FORBIDDEN for url: https://engine.remyx.ai/api/v1.0/task/job-status/myxmatch-task-87ba56c7-cff9-459b-84a7-d1c1073f2550\n",
      "ERROR:root:Failed to update MyxBoard: 403\n",
      "ERROR:root:HTTP error occurred: 403 Client Error: FORBIDDEN for url: https://engine.remyx.ai/api/v1.0/task/job-status/myxmatch-task-87ba56c7-cff9-459b-84a7-d1c1073f2550\n",
      "ERROR:root:Failed to update MyxBoard: 403\n",
      "ERROR:root:HTTP error occurred: 403 Client Error: FORBIDDEN for url: https://engine.remyx.ai/api/v1.0/task/job-status/myxmatch-task-87ba56c7-cff9-459b-84a7-d1c1073f2550\n",
      "ERROR:root:Failed to update MyxBoard: 403\n",
      "ERROR:root:HTTP error occurred: 403 Client Error: FORBIDDEN for url: https://engine.remyx.ai/api/v1.0/task/job-status/myxmatch-task-87ba56c7-cff9-459b-84a7-d1c1073f2550\n",
      "ERROR:root:Failed to update MyxBoard: 403\n",
      "ERROR:root:HTTP error occurred: 403 Client Error: FORBIDDEN for url: https://engine.remyx.ai/api/v1.0/task/job-status/myxmatch-task-87ba56c7-cff9-459b-84a7-d1c1073f2550\n",
      "ERROR:root:Failed to update MyxBoard: 403\n",
      "ERROR:root:HTTP error occurred: 403 Client Error: FORBIDDEN for url: https://engine.remyx.ai/api/v1.0/task/job-status/myxmatch-task-87ba56c7-cff9-459b-84a7-d1c1073f2550\n",
      "ERROR:root:Failed to update MyxBoard: 403\n",
      "ERROR:root:HTTP error occurred: 403 Client Error: FORBIDDEN for url: https://engine.remyx.ai/api/v1.0/task/job-status/myxmatch-task-87ba56c7-cff9-459b-84a7-d1c1073f2550\n",
      "ERROR:root:Failed to update MyxBoard: 403\n",
      "ERROR:root:HTTP error occurred: 403 Client Error: FORBIDDEN for url: https://engine.remyx.ai/api/v1.0/task/job-status/myxmatch-task-87ba56c7-cff9-459b-84a7-d1c1073f2550\n",
      "ERROR:root:Failed to update MyxBoard: 403\n",
      "ERROR:root:HTTP error occurred: 403 Client Error: FORBIDDEN for url: https://engine.remyx.ai/api/v1.0/task/job-status/myxmatch-task-87ba56c7-cff9-459b-84a7-d1c1073f2550\n",
      "ERROR:root:Failed to update MyxBoard: 403\n",
      "ERROR:root:HTTP error occurred: 403 Client Error: FORBIDDEN for url: https://engine.remyx.ai/api/v1.0/task/job-status/myxmatch-task-87ba56c7-cff9-459b-84a7-d1c1073f2550\n",
      "ERROR:root:Failed to update MyxBoard: 403\n",
      "ERROR:root:HTTP error occurred: 403 Client Error: FORBIDDEN for url: https://engine.remyx.ai/api/v1.0/task/job-status/myxmatch-task-87ba56c7-cff9-459b-84a7-d1c1073f2550\n",
      "ERROR:root:Failed to update MyxBoard: 403\n",
      "ERROR:root:HTTP error occurred: 403 Client Error: FORBIDDEN for url: https://engine.remyx.ai/api/v1.0/task/job-status/myxmatch-task-87ba56c7-cff9-459b-84a7-d1c1073f2550\n",
      "ERROR:root:Failed to update MyxBoard: 403\n",
      "ERROR:root:HTTP error occurred: 403 Client Error: FORBIDDEN for url: https://engine.remyx.ai/api/v1.0/task/job-status/myxmatch-task-87ba56c7-cff9-459b-84a7-d1c1073f2550\n",
      "ERROR:root:Failed to update MyxBoard: 403\n",
      "ERROR:root:HTTP error occurred: 403 Client Error: FORBIDDEN for url: https://engine.remyx.ai/api/v1.0/task/job-status/myxmatch-task-87ba56c7-cff9-459b-84a7-d1c1073f2550\n",
      "ERROR:root:Failed to update MyxBoard: 403\n",
      "ERROR:root:HTTP error occurred: 403 Client Error: FORBIDDEN for url: https://engine.remyx.ai/api/v1.0/task/job-status/myxmatch-task-87ba56c7-cff9-459b-84a7-d1c1073f2550\n",
      "ERROR:root:Failed to update MyxBoard: 403\n",
      "ERROR:root:HTTP error occurred: 403 Client Error: FORBIDDEN for url: https://engine.remyx.ai/api/v1.0/task/job-status/myxmatch-task-87ba56c7-cff9-459b-84a7-d1c1073f2550\n",
      "ERROR:root:Failed to update MyxBoard: 403\n",
      "ERROR:root:HTTP error occurred: 403 Client Error: FORBIDDEN for url: https://engine.remyx.ai/api/v1.0/task/job-status/myxmatch-task-87ba56c7-cff9-459b-84a7-d1c1073f2550\n",
      "ERROR:root:Failed to update MyxBoard: 403\n",
      "ERROR:root:HTTP error occurred: 403 Client Error: FORBIDDEN for url: https://engine.remyx.ai/api/v1.0/task/job-status/myxmatch-task-87ba56c7-cff9-459b-84a7-d1c1073f2550\n",
      "ERROR:root:Failed to update MyxBoard: 403\n",
      "ERROR:root:HTTP error occurred: 403 Client Error: FORBIDDEN for url: https://engine.remyx.ai/api/v1.0/task/job-status/myxmatch-task-87ba56c7-cff9-459b-84a7-d1c1073f2550\n",
      "ERROR:root:Failed to update MyxBoard: 403\n",
      "ERROR:root:HTTP error occurred: 403 Client Error: FORBIDDEN for url: https://engine.remyx.ai/api/v1.0/task/job-status/myxmatch-task-87ba56c7-cff9-459b-84a7-d1c1073f2550\n",
      "ERROR:root:Failed to update MyxBoard: 403\n",
      "ERROR:root:HTTP error occurred: 403 Client Error: FORBIDDEN for url: https://engine.remyx.ai/api/v1.0/task/job-status/myxmatch-task-87ba56c7-cff9-459b-84a7-d1c1073f2550\n",
      "ERROR:root:Failed to update MyxBoard: 403\n",
      "ERROR:root:HTTP error occurred: 403 Client Error: FORBIDDEN for url: https://engine.remyx.ai/api/v1.0/task/job-status/myxmatch-task-87ba56c7-cff9-459b-84a7-d1c1073f2550\n",
      "ERROR:root:Failed to update MyxBoard: 403\n",
      "ERROR:root:HTTP error occurred: 403 Client Error: FORBIDDEN for url: https://engine.remyx.ai/api/v1.0/task/job-status/myxmatch-task-87ba56c7-cff9-459b-84a7-d1c1073f2550\n",
      "ERROR:root:Failed to update MyxBoard: 403\n",
      "ERROR:root:HTTP error occurred: 403 Client Error: FORBIDDEN for url: https://engine.remyx.ai/api/v1.0/task/job-status/myxmatch-task-87ba56c7-cff9-459b-84a7-d1c1073f2550\n",
      "ERROR:root:Failed to update MyxBoard: 403\n",
      "ERROR:root:HTTP error occurred: 403 Client Error: FORBIDDEN for url: https://engine.remyx.ai/api/v1.0/task/job-status/myxmatch-task-87ba56c7-cff9-459b-84a7-d1c1073f2550\n",
      "ERROR:root:Failed to update MyxBoard: 403\n",
      "ERROR:root:HTTP error occurred: 403 Client Error: FORBIDDEN for url: https://engine.remyx.ai/api/v1.0/task/job-status/myxmatch-task-87ba56c7-cff9-459b-84a7-d1c1073f2550\n",
      "ERROR:root:Failed to update MyxBoard: 403\n",
      "ERROR:root:HTTP error occurred: 403 Client Error: FORBIDDEN for url: https://engine.remyx.ai/api/v1.0/task/job-status/myxmatch-task-87ba56c7-cff9-459b-84a7-d1c1073f2550\n",
      "ERROR:root:Failed to update MyxBoard: 403\n",
      "ERROR:root:HTTP error occurred: 403 Client Error: FORBIDDEN for url: https://engine.remyx.ai/api/v1.0/task/job-status/myxmatch-task-87ba56c7-cff9-459b-84a7-d1c1073f2550\n",
      "ERROR:root:Failed to update MyxBoard: 403\n",
      "ERROR:root:HTTP error occurred: 403 Client Error: FORBIDDEN for url: https://engine.remyx.ai/api/v1.0/task/job-status/myxmatch-task-87ba56c7-cff9-459b-84a7-d1c1073f2550\n",
      "ERROR:root:Failed to update MyxBoard: 403\n",
      "ERROR:root:HTTP error occurred: 403 Client Error: FORBIDDEN for url: https://engine.remyx.ai/api/v1.0/task/job-status/myxmatch-task-87ba56c7-cff9-459b-84a7-d1c1073f2550\n",
      "ERROR:root:Failed to update MyxBoard: 403\n",
      "ERROR:root:HTTP error occurred: 403 Client Error: FORBIDDEN for url: https://engine.remyx.ai/api/v1.0/task/job-status/myxmatch-task-87ba56c7-cff9-459b-84a7-d1c1073f2550\n",
      "ERROR:root:Failed to update MyxBoard: 403\n",
      "ERROR:root:HTTP error occurred: 403 Client Error: FORBIDDEN for url: https://engine.remyx.ai/api/v1.0/task/job-status/myxmatch-task-87ba56c7-cff9-459b-84a7-d1c1073f2550\n",
      "ERROR:root:Failed to update MyxBoard: 403\n",
      "ERROR:root:HTTP error occurred: 403 Client Error: FORBIDDEN for url: https://engine.remyx.ai/api/v1.0/task/job-status/myxmatch-task-87ba56c7-cff9-459b-84a7-d1c1073f2550\n",
      "ERROR:root:Failed to update MyxBoard: 403\n",
      "ERROR:root:HTTP error occurred: 403 Client Error: FORBIDDEN for url: https://engine.remyx.ai/api/v1.0/task/job-status/myxmatch-task-87ba56c7-cff9-459b-84a7-d1c1073f2550\n",
      "ERROR:root:Failed to update MyxBoard: 403\n",
      "ERROR:root:HTTP error occurred: 403 Client Error: FORBIDDEN for url: https://engine.remyx.ai/api/v1.0/task/job-status/myxmatch-task-87ba56c7-cff9-459b-84a7-d1c1073f2550\n",
      "ERROR:root:Failed to update MyxBoard: 403\n",
      "ERROR:root:HTTP error occurred: 403 Client Error: FORBIDDEN for url: https://engine.remyx.ai/api/v1.0/task/job-status/myxmatch-task-87ba56c7-cff9-459b-84a7-d1c1073f2550\n",
      "ERROR:root:Failed to update MyxBoard: 403\n",
      "ERROR:root:HTTP error occurred: 403 Client Error: FORBIDDEN for url: https://engine.remyx.ai/api/v1.0/task/job-status/myxmatch-task-87ba56c7-cff9-459b-84a7-d1c1073f2550\n",
      "ERROR:root:Failed to update MyxBoard: 403\n",
      "ERROR:root:HTTP error occurred: 403 Client Error: FORBIDDEN for url: https://engine.remyx.ai/api/v1.0/task/job-status/myxmatch-task-87ba56c7-cff9-459b-84a7-d1c1073f2550\n",
      "ERROR:root:Failed to update MyxBoard: 403\n",
      "ERROR:root:HTTP error occurred: 403 Client Error: FORBIDDEN for url: https://engine.remyx.ai/api/v1.0/task/job-status/myxmatch-task-87ba56c7-cff9-459b-84a7-d1c1073f2550\n",
      "ERROR:root:Failed to update MyxBoard: 403\n",
      "ERROR:root:HTTP error occurred: 403 Client Error: FORBIDDEN for url: https://engine.remyx.ai/api/v1.0/task/job-status/myxmatch-task-87ba56c7-cff9-459b-84a7-d1c1073f2550\n",
      "ERROR:root:Failed to update MyxBoard: 403\n",
      "ERROR:root:HTTP error occurred: 403 Client Error: FORBIDDEN for url: https://engine.remyx.ai/api/v1.0/task/job-status/myxmatch-task-87ba56c7-cff9-459b-84a7-d1c1073f2550\n",
      "ERROR:root:Failed to update MyxBoard: 403\n",
      "ERROR:root:HTTP error occurred: 403 Client Error: FORBIDDEN for url: https://engine.remyx.ai/api/v1.0/task/job-status/myxmatch-task-87ba56c7-cff9-459b-84a7-d1c1073f2550\n",
      "ERROR:root:Failed to update MyxBoard: 403\n",
      "ERROR:root:HTTP error occurred: 403 Client Error: FORBIDDEN for url: https://engine.remyx.ai/api/v1.0/task/job-status/myxmatch-task-87ba56c7-cff9-459b-84a7-d1c1073f2550\n",
      "ERROR:root:Failed to update MyxBoard: 403\n",
      "ERROR:root:HTTP error occurred: 403 Client Error: FORBIDDEN for url: https://engine.remyx.ai/api/v1.0/task/job-status/myxmatch-task-87ba56c7-cff9-459b-84a7-d1c1073f2550\n",
      "ERROR:root:Failed to update MyxBoard: 403\n",
      "ERROR:root:HTTP error occurred: 403 Client Error: FORBIDDEN for url: https://engine.remyx.ai/api/v1.0/task/job-status/myxmatch-task-87ba56c7-cff9-459b-84a7-d1c1073f2550\n",
      "ERROR:root:Failed to update MyxBoard: 403\n",
      "ERROR:root:HTTP error occurred: 403 Client Error: FORBIDDEN for url: https://engine.remyx.ai/api/v1.0/task/job-status/myxmatch-task-87ba56c7-cff9-459b-84a7-d1c1073f2550\n",
      "ERROR:root:Failed to update MyxBoard: 403\n"
     ]
    }
   ],
   "source": [
    "for prompt in prompts:\n",
    "    remyx_api.evaluate(myx_board, tasks, prompt=prompt)"
   ]
  },
  {
   "cell_type": "markdown",
   "id": "0aec6afa-7b49-4944-a2ba-2d8a58229d64",
   "metadata": {},
   "source": [
    "Let's checkout the status of the evaluation tasks which we have just started."
   ]
  },
  {
   "cell_type": "code",
   "execution_count": 33,
   "id": "1157771d-a569-440b-8c8d-0aad1eb0de99",
   "metadata": {},
   "outputs": [
    {
     "data": {
      "text/plain": [
       "[{'eval_type': 'myxmatch',\n",
       "  'name': 'customer_support_myxboard',\n",
       "  'status': 'FINISHED'},\n",
       " {'eval_type': 'myxmatch', 'name': 'test_myxboard', 'status': 'FINISHED'},\n",
       " {'eval_type': 'myxmatch', 'name': 'movies knowledge', 'status': 'FINISHED'}]"
      ]
     },
     "execution_count": 33,
     "metadata": {},
     "output_type": "execute_result"
    }
   ],
   "source": [
    "from remyxai.api.evaluations import download_evaluation, list_evaluations\n",
    "\n",
    "evaluations = list_evaluations()\n",
    "evaluations"
   ]
  },
  {
   "cell_type": "markdown",
   "id": "5655193e-a997-4127-afa4-80af5ae42b9d",
   "metadata": {},
   "source": [
    "When the `status` will show as `Finished` for the `customer_support_myxboard`, we can download the evaluation to look more into the detail "
   ]
  },
  {
   "cell_type": "code",
   "execution_count": 36,
   "id": "d4e51b1d-b5b6-4c14-bf31-423a745b477b",
   "metadata": {},
   "outputs": [
    {
     "data": {
      "text/plain": [
       "{'models': [{'model': 'Qwen2-1.5B', 'rank': 1},\n",
       "  {'model': 'Phi-3-mini-4k-instruct', 'rank': 2},\n",
       "  {'model': 'Meta-Llama-3-8B-Instruct', 'rank': 3},\n",
       "  {'model': 'Meta-Llama-3-8B', 'rank': 4},\n",
       "  {'model': 'CodeLlama-7b-Instruct-hf', 'rank': 5},\n",
       "  {'model': 'Qwen2-1.5B-Instruct', 'rank': 6},\n",
       "  {'model': 'Mistral-7B-Instruct-v0.3', 'rank': 7},\n",
       "  {'model': 'BioMistral-7B', 'rank': 8},\n",
       "  {'model': 'gorilla-openfunctions-v2', 'rank': 9},\n",
       "  {'model': 'Llama-2-7b-hf', 'rank': 10}],\n",
       " 'prompt': \"Your product is defective. It doesn't work as advertised.\"}"
      ]
     },
     "execution_count": 36,
     "metadata": {},
     "output_type": "execute_result"
    }
   ],
   "source": [
    "results = download_evaluation(\"myxmatch\", \"customer_support_myxboard\")\n",
    "results['message']"
   ]
  },
  {
   "cell_type": "markdown",
   "id": "0820de00-261c-498f-bf6f-6b26e57df0cb",
   "metadata": {},
   "source": [
    "### Qwen2-1.5B Won"
   ]
  },
  {
   "cell_type": "markdown",
   "id": "dd0133ea-20c0-4c58-bcbe-77cf28315bfb",
   "metadata": {},
   "source": [
    "Now we know the ranking the of the models, where `Qwen2-1.5B` has the rank 1 respective to responses on the given prompts. To get the best responses as a customer support AI agent, we should use `Qwen2-1.5B` as our 1st choice in among other given models."
   ]
  },
  {
   "cell_type": "code",
   "execution_count": null,
   "id": "1e9592e6-c9d8-443c-be79-1b250b709321",
   "metadata": {},
   "outputs": [],
   "source": []
  }
 ],
 "metadata": {
  "kernelspec": {
   "display_name": "Python 3 (ipykernel)",
   "language": "python",
   "name": "python3"
  },
  "language_info": {
   "codemirror_mode": {
    "name": "ipython",
    "version": 3
   },
   "file_extension": ".py",
   "mimetype": "text/x-python",
   "name": "python",
   "nbconvert_exporter": "python",
   "pygments_lexer": "ipython3",
   "version": "3.10.15"
  }
 },
 "nbformat": 4,
 "nbformat_minor": 5
}
